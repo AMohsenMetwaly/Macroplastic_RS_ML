{
 "cells": [
  {
   "cell_type": "code",
   "execution_count": 1,
   "metadata": {},
   "outputs": [],
   "source": [
    "Importing data"
   ]
  },
  {
   "cell_type": "code",
   "execution_count": null,
   "metadata": {},
   "outputs": [],
   "source": [
    "import rasterio\n",
    "import numpy as np \n",
    "import pandas as pd \n",
    "from sklearn.model_selection import train_test_split\n",
    "data=pd.read_excel('new_without B1 and B9.xlsx')\n",
    "x=data.drop (columns=[\"Target\"])\n",
    "y=data [\"Target\"]\n",
    "x=x.to_numpy ()\n",
    "y=y.to_numpy ()\n",
    "y=y.reshape (y.shape [0], 1)\n",
    "x_train, x_test, y_train, y_test = train_test_split (x, y, test_size = 0.2, random_state =42)"
   ]
  },
  {
   "cell_type": "markdown",
   "metadata": {},
   "source": [
    "Decision Tree model"
   ]
  },
  {
   "cell_type": "code",
   "execution_count": 21,
   "metadata": {},
   "outputs": [
    {
     "name": "stdout",
     "output_type": "stream",
     "text": [
      "              precision    recall  f1-score   support\n",
      "\n",
      "           0       0.93      0.92      0.93       335\n",
      "           1       0.78      0.81      0.80       118\n",
      "\n",
      "    accuracy                           0.89       453\n",
      "   macro avg       0.86      0.87      0.86       453\n",
      "weighted avg       0.89      0.89      0.89       453\n",
      "\n"
     ]
    },
    {
     "data": {
      "text/plain": [
       "[Text(210.25975290697676, 210.645, 'X[8] <= 0.119\\ngini = 0.397\\nsamples = 1811\\nvalue = [1317, 494]'),\n",
       " Text(123.09252906976745, 197.055, 'X[10] <= 0.516\\ngini = 0.187\\nsamples = 1379\\nvalue = [1235, 144]'),\n",
       " Text(48.90610465116279, 183.465, 'X[11] <= 0.46\\ngini = 0.084\\nsamples = 1050\\nvalue = [1004, 46]'),\n",
       " Text(45.79168604651163, 169.875, 'gini = 0.0\\nsamples = 4\\nvalue = [0, 4]'),\n",
       " Text(52.020523255813956, 169.875, 'X[11] <= 0.47\\ngini = 0.077\\nsamples = 1046\\nvalue = [1004, 42]'),\n",
       " Text(23.358139534883723, 156.285, 'X[5] <= 0.098\\ngini = 0.432\\nsamples = 19\\nvalue = [13, 6]'),\n",
       " Text(20.24372093023256, 142.695, 'X[10] <= 0.478\\ngini = 0.231\\nsamples = 15\\nvalue = [13, 2]'),\n",
       " Text(17.129302325581396, 129.10500000000002, 'X[3] <= 0.067\\ngini = 0.133\\nsamples = 14\\nvalue = [13, 1]'),\n",
       " Text(14.014883720930234, 115.515, 'X[8] <= 0.072\\ngini = 0.375\\nsamples = 4\\nvalue = [3, 1]'),\n",
       " Text(10.90046511627907, 101.925, 'gini = 0.0\\nsamples = 3\\nvalue = [3, 0]'),\n",
       " Text(17.129302325581396, 101.925, 'gini = 0.0\\nsamples = 1\\nvalue = [0, 1]'),\n",
       " Text(20.24372093023256, 115.515, 'gini = 0.0\\nsamples = 10\\nvalue = [10, 0]'),\n",
       " Text(23.358139534883723, 129.10500000000002, 'gini = 0.0\\nsamples = 1\\nvalue = [0, 1]'),\n",
       " Text(26.472558139534886, 142.695, 'gini = 0.0\\nsamples = 4\\nvalue = [0, 4]'),\n",
       " Text(80.68290697674419, 156.285, 'X[3] <= 0.079\\ngini = 0.068\\nsamples = 1027\\nvalue = [991, 36]'),\n",
       " Text(46.32697674418605, 142.695, 'X[10] <= 0.512\\ngini = 0.03\\nsamples = 732\\nvalue = [721, 11]'),\n",
       " Text(36.59441860465117, 129.10500000000002, 'X[11] <= 0.485\\ngini = 0.027\\nsamples = 730\\nvalue = [720, 10]'),\n",
       " Text(26.472558139534886, 115.515, 'X[11] <= 0.485\\ngini = 0.129\\nsamples = 72\\nvalue = [67, 5]'),\n",
       " Text(23.358139534883723, 101.925, 'X[4] <= 0.073\\ngini = 0.106\\nsamples = 71\\nvalue = [67, 4]'),\n",
       " Text(20.24372093023256, 88.33500000000001, 'X[10] <= 0.487\\ngini = 0.082\\nsamples = 70\\nvalue = [67, 3]'),\n",
       " Text(12.457674418604652, 74.745, 'X[2] <= 0.025\\ngini = 0.057\\nsamples = 68\\nvalue = [66, 2]'),\n",
       " Text(6.228837209302326, 61.155, 'X[2] <= 0.024\\ngini = 0.32\\nsamples = 5\\nvalue = [4, 1]'),\n",
       " Text(3.114418604651163, 47.565, 'gini = 0.0\\nsamples = 4\\nvalue = [4, 0]'),\n",
       " Text(9.343255813953489, 47.565, 'gini = 0.0\\nsamples = 1\\nvalue = [0, 1]'),\n",
       " Text(18.686511627906977, 61.155, 'X[10] <= 0.444\\ngini = 0.031\\nsamples = 63\\nvalue = [62, 1]'),\n",
       " Text(15.572093023255816, 47.565, 'gini = 0.0\\nsamples = 57\\nvalue = [57, 0]'),\n",
       " Text(21.80093023255814, 47.565, 'X[9] <= 0.036\\ngini = 0.278\\nsamples = 6\\nvalue = [5, 1]'),\n",
       " Text(18.686511627906977, 33.974999999999994, 'gini = 0.0\\nsamples = 1\\nvalue = [0, 1]'),\n",
       " Text(24.915348837209304, 33.974999999999994, 'gini = 0.0\\nsamples = 5\\nvalue = [5, 0]'),\n",
       " Text(28.029767441860468, 74.745, 'X[4] <= 0.038\\ngini = 0.5\\nsamples = 2\\nvalue = [1, 1]'),\n",
       " Text(24.915348837209304, 61.155, 'gini = 0.0\\nsamples = 1\\nvalue = [0, 1]'),\n",
       " Text(31.14418604651163, 61.155, 'gini = 0.0\\nsamples = 1\\nvalue = [1, 0]'),\n",
       " Text(26.472558139534886, 88.33500000000001, 'gini = 0.0\\nsamples = 1\\nvalue = [0, 1]'),\n",
       " Text(29.58697674418605, 101.925, 'gini = 0.0\\nsamples = 1\\nvalue = [0, 1]'),\n",
       " Text(46.716279069767445, 115.515, 'X[9] <= 0.013\\ngini = 0.015\\nsamples = 658\\nvalue = [653, 5]'),\n",
       " Text(43.60186046511628, 101.925, 'gini = 0.0\\nsamples = 444\\nvalue = [444, 0]'),\n",
       " Text(49.83069767441861, 101.925, 'X[5] <= 0.02\\ngini = 0.046\\nsamples = 214\\nvalue = [209, 5]'),\n",
       " Text(43.60186046511628, 88.33500000000001, 'X[11] <= 0.498\\ngini = 0.236\\nsamples = 22\\nvalue = [19, 3]'),\n",
       " Text(40.48744186046512, 74.745, 'X[9] <= 0.013\\ngini = 0.095\\nsamples = 20\\nvalue = [19, 1]'),\n",
       " Text(37.373023255813955, 61.155, 'X[12] <= 0.151\\ngini = 0.444\\nsamples = 3\\nvalue = [2, 1]'),\n",
       " Text(34.25860465116279, 47.565, 'gini = 0.0\\nsamples = 2\\nvalue = [2, 0]'),\n",
       " Text(40.48744186046512, 47.565, 'gini = 0.0\\nsamples = 1\\nvalue = [0, 1]'),\n",
       " Text(43.60186046511628, 61.155, 'gini = 0.0\\nsamples = 17\\nvalue = [17, 0]'),\n",
       " Text(46.716279069767445, 74.745, 'gini = 0.0\\nsamples = 2\\nvalue = [0, 2]'),\n",
       " Text(56.059534883720936, 88.33500000000001, 'X[1] <= 0.09\\ngini = 0.021\\nsamples = 192\\nvalue = [190, 2]'),\n",
       " Text(52.94511627906977, 74.745, 'gini = 0.0\\nsamples = 149\\nvalue = [149, 0]'),\n",
       " Text(59.1739534883721, 74.745, 'X[1] <= 0.09\\ngini = 0.089\\nsamples = 43\\nvalue = [41, 2]'),\n",
       " Text(56.059534883720936, 61.155, 'gini = 0.0\\nsamples = 1\\nvalue = [0, 1]'),\n",
       " Text(62.28837209302326, 61.155, 'X[12] <= 0.482\\ngini = 0.046\\nsamples = 42\\nvalue = [41, 1]'),\n",
       " Text(59.1739534883721, 47.565, 'gini = 0.0\\nsamples = 39\\nvalue = [39, 0]'),\n",
       " Text(65.40279069767442, 47.565, 'X[13] <= 0.541\\ngini = 0.444\\nsamples = 3\\nvalue = [2, 1]'),\n",
       " Text(62.28837209302326, 33.974999999999994, 'gini = 0.0\\nsamples = 2\\nvalue = [2, 0]'),\n",
       " Text(68.51720930232558, 33.974999999999994, 'gini = 0.0\\nsamples = 1\\nvalue = [0, 1]'),\n",
       " Text(56.059534883720936, 129.10500000000002, 'X[10] <= 0.513\\ngini = 0.5\\nsamples = 2\\nvalue = [1, 1]'),\n",
       " Text(52.94511627906977, 115.515, 'gini = 0.0\\nsamples = 1\\nvalue = [0, 1]'),\n",
       " Text(59.1739534883721, 115.515, 'gini = 0.0\\nsamples = 1\\nvalue = [1, 0]'),\n",
       " Text(115.03883720930233, 142.695, 'X[0] <= 0.07\\ngini = 0.155\\nsamples = 295\\nvalue = [270, 25]'),\n",
       " Text(89.92883720930233, 129.10500000000002, 'X[13] <= 0.555\\ngini = 0.296\\nsamples = 122\\nvalue = [100, 22]'),\n",
       " Text(79.41767441860466, 115.515, 'X[13] <= 0.447\\ngini = 0.05\\nsamples = 39\\nvalue = [38, 1]'),\n",
       " Text(76.3032558139535, 101.925, 'gini = 0.0\\nsamples = 1\\nvalue = [0, 1]'),\n",
       " Text(82.53209302325583, 101.925, 'gini = 0.0\\nsamples = 38\\nvalue = [38, 0]'),\n",
       " Text(100.44000000000001, 115.515, 'X[13] <= 0.68\\ngini = 0.378\\nsamples = 83\\nvalue = [62, 21]'),\n",
       " Text(88.76093023255815, 101.925, 'X[1] <= 0.084\\ngini = 0.47\\nsamples = 53\\nvalue = [33, 20]'),\n",
       " Text(74.74604651162791, 88.33500000000001, 'X[4] <= 0.039\\ngini = 0.32\\nsamples = 25\\nvalue = [20, 5]'),\n",
       " Text(71.63162790697675, 74.745, 'gini = 0.0\\nsamples = 1\\nvalue = [0, 1]'),\n",
       " Text(77.86046511627907, 74.745, 'X[13] <= 0.563\\ngini = 0.278\\nsamples = 24\\nvalue = [20, 4]'),\n",
       " Text(74.74604651162791, 61.155, 'gini = 0.0\\nsamples = 1\\nvalue = [0, 1]'),\n",
       " Text(80.97488372093024, 61.155, 'X[4] <= 0.114\\ngini = 0.227\\nsamples = 23\\nvalue = [20, 3]'),\n",
       " Text(77.86046511627907, 47.565, 'X[13] <= 0.651\\ngini = 0.165\\nsamples = 22\\nvalue = [20, 2]'),\n",
       " Text(74.74604651162791, 33.974999999999994, 'gini = 0.0\\nsamples = 14\\nvalue = [14, 0]'),\n",
       " Text(80.97488372093024, 33.974999999999994, 'X[13] <= 0.655\\ngini = 0.375\\nsamples = 8\\nvalue = [6, 2]'),\n",
       " Text(77.86046511627907, 20.38499999999999, 'gini = 0.0\\nsamples = 1\\nvalue = [0, 1]'),\n",
       " Text(84.0893023255814, 20.38499999999999, 'X[1] <= 0.076\\ngini = 0.245\\nsamples = 7\\nvalue = [6, 1]'),\n",
       " Text(80.97488372093024, 6.7949999999999875, 'gini = 0.5\\nsamples = 2\\nvalue = [1, 1]'),\n",
       " Text(87.20372093023256, 6.7949999999999875, 'gini = 0.0\\nsamples = 5\\nvalue = [5, 0]'),\n",
       " Text(84.0893023255814, 47.565, 'gini = 0.0\\nsamples = 1\\nvalue = [0, 1]'),\n",
       " Text(102.77581395348838, 88.33500000000001, 'X[4] <= 0.076\\ngini = 0.497\\nsamples = 28\\nvalue = [13, 15]'),\n",
       " Text(99.66139534883722, 74.745, 'X[13] <= 0.614\\ngini = 0.454\\nsamples = 23\\nvalue = [8, 15]'),\n",
       " Text(93.43255813953489, 61.155, 'X[7] <= 0.041\\ngini = 0.18\\nsamples = 10\\nvalue = [1, 9]'),\n",
       " Text(90.31813953488373, 47.565, 'gini = 0.5\\nsamples = 2\\nvalue = [1, 1]'),\n",
       " Text(96.54697674418605, 47.565, 'gini = 0.0\\nsamples = 8\\nvalue = [0, 8]'),\n",
       " Text(105.89023255813954, 61.155, 'X[6] <= 0.05\\ngini = 0.497\\nsamples = 13\\nvalue = [7, 6]'),\n",
       " Text(102.77581395348838, 47.565, 'X[6] <= 0.046\\ngini = 0.444\\nsamples = 9\\nvalue = [3, 6]'),\n",
       " Text(99.66139534883722, 33.974999999999994, 'X[10] <= 0.325\\ngini = 0.48\\nsamples = 5\\nvalue = [3, 2]'),\n",
       " Text(96.54697674418605, 20.38499999999999, 'X[11] <= 0.525\\ngini = 0.444\\nsamples = 3\\nvalue = [1, 2]'),\n",
       " Text(93.43255813953489, 6.7949999999999875, 'gini = 0.5\\nsamples = 2\\nvalue = [1, 1]'),\n",
       " Text(99.66139534883722, 6.7949999999999875, 'gini = 0.0\\nsamples = 1\\nvalue = [0, 1]'),\n",
       " Text(102.77581395348838, 20.38499999999999, 'gini = 0.0\\nsamples = 2\\nvalue = [2, 0]'),\n",
       " Text(105.89023255813954, 33.974999999999994, 'gini = 0.0\\nsamples = 4\\nvalue = [0, 4]'),\n",
       " Text(109.00465116279071, 47.565, 'gini = 0.0\\nsamples = 4\\nvalue = [4, 0]'),\n",
       " Text(105.89023255813954, 74.745, 'gini = 0.0\\nsamples = 5\\nvalue = [5, 0]'),\n",
       " Text(112.11906976744187, 101.925, 'X[0] <= 0.069\\ngini = 0.064\\nsamples = 30\\nvalue = [29, 1]'),\n",
       " Text(109.00465116279071, 88.33500000000001, 'gini = 0.0\\nsamples = 28\\nvalue = [28, 0]'),\n",
       " Text(115.23348837209303, 88.33500000000001, 'X[10] <= 0.303\\ngini = 0.5\\nsamples = 2\\nvalue = [1, 1]'),\n",
       " Text(112.11906976744187, 74.745, 'gini = 0.0\\nsamples = 1\\nvalue = [0, 1]'),\n",
       " Text(118.3479069767442, 74.745, 'gini = 0.0\\nsamples = 1\\nvalue = [1, 0]'),\n",
       " Text(140.14883720930234, 129.10500000000002, 'X[7] <= 0.122\\ngini = 0.034\\nsamples = 173\\nvalue = [170, 3]'),\n",
       " Text(133.92000000000002, 115.515, 'X[0] <= 0.08\\ngini = 0.023\\nsamples = 171\\nvalue = [169, 2]'),\n",
       " Text(130.80558139534884, 101.925, 'X[0] <= 0.08\\ngini = 0.063\\nsamples = 61\\nvalue = [59, 2]'),\n",
       " Text(127.69116279069769, 88.33500000000001, 'X[7] <= 0.098\\ngini = 0.033\\nsamples = 60\\nvalue = [59, 1]'),\n",
       " Text(124.57674418604653, 74.745, 'gini = 0.0\\nsamples = 53\\nvalue = [53, 0]'),\n",
       " Text(130.80558139534884, 74.745, 'X[10] <= 0.46\\ngini = 0.245\\nsamples = 7\\nvalue = [6, 1]'),\n",
       " Text(127.69116279069769, 61.155, 'gini = 0.0\\nsamples = 1\\nvalue = [0, 1]'),\n",
       " Text(133.92000000000002, 61.155, 'gini = 0.0\\nsamples = 6\\nvalue = [6, 0]'),\n",
       " Text(133.92000000000002, 88.33500000000001, 'gini = 0.0\\nsamples = 1\\nvalue = [0, 1]'),\n",
       " Text(137.03441860465117, 101.925, 'gini = 0.0\\nsamples = 110\\nvalue = [110, 0]'),\n",
       " Text(146.37767441860467, 115.515, 'X[8] <= 0.113\\ngini = 0.5\\nsamples = 2\\nvalue = [1, 1]'),\n",
       " Text(143.2632558139535, 101.925, 'gini = 0.0\\nsamples = 1\\nvalue = [0, 1]'),\n",
       " Text(149.49209302325582, 101.925, 'gini = 0.0\\nsamples = 1\\nvalue = [1, 0]'),\n",
       " Text(197.2789534883721, 183.465, 'X[2] <= 0.053\\ngini = 0.418\\nsamples = 329\\nvalue = [231, 98]'),\n",
       " Text(168.1786046511628, 169.875, 'X[11] <= 0.495\\ngini = 0.222\\nsamples = 157\\nvalue = [137, 20]'),\n",
       " Text(155.72093023255815, 156.285, 'X[11] <= 0.484\\ngini = 0.475\\nsamples = 18\\nvalue = [7, 11]'),\n",
       " Text(152.606511627907, 142.695, 'gini = 0.0\\nsamples = 6\\nvalue = [0, 6]'),\n",
       " Text(158.83534883720932, 142.695, 'X[11] <= 0.492\\ngini = 0.486\\nsamples = 12\\nvalue = [7, 5]'),\n",
       " Text(155.72093023255815, 129.10500000000002, 'X[6] <= 0.057\\ngini = 0.346\\nsamples = 9\\nvalue = [7, 2]'),\n",
       " Text(152.606511627907, 115.515, 'gini = 0.0\\nsamples = 6\\nvalue = [6, 0]'),\n",
       " Text(158.83534883720932, 115.515, 'X[9] <= 0.057\\ngini = 0.444\\nsamples = 3\\nvalue = [1, 2]'),\n",
       " Text(155.72093023255815, 101.925, 'gini = 0.0\\nsamples = 2\\nvalue = [0, 2]'),\n",
       " Text(161.94976744186047, 101.925, 'gini = 0.0\\nsamples = 1\\nvalue = [1, 0]'),\n",
       " Text(161.94976744186047, 129.10500000000002, 'gini = 0.0\\nsamples = 3\\nvalue = [0, 3]'),\n",
       " Text(180.63627906976745, 156.285, 'X[9] <= 0.062\\ngini = 0.121\\nsamples = 139\\nvalue = [130, 9]'),\n",
       " Text(177.5218604651163, 142.695, 'X[5] <= 0.007\\ngini = 0.084\\nsamples = 136\\nvalue = [130, 6]'),\n",
       " Text(174.40744186046513, 129.10500000000002, 'gini = 0.0\\nsamples = 1\\nvalue = [0, 1]'),\n",
       " Text(180.63627906976745, 129.10500000000002, 'X[11] <= 0.509\\ngini = 0.071\\nsamples = 135\\nvalue = [130, 5]'),\n",
       " Text(171.29302325581398, 115.515, 'X[6] <= 0.061\\ngini = 0.245\\nsamples = 28\\nvalue = [24, 4]'),\n",
       " Text(168.1786046511628, 101.925, 'gini = 0.0\\nsamples = 23\\nvalue = [23, 0]'),\n",
       " Text(174.40744186046513, 101.925, 'X[2] <= 0.02\\ngini = 0.32\\nsamples = 5\\nvalue = [1, 4]'),\n",
       " Text(171.29302325581398, 88.33500000000001, 'gini = 0.0\\nsamples = 1\\nvalue = [1, 0]'),\n",
       " Text(177.5218604651163, 88.33500000000001, 'gini = 0.0\\nsamples = 4\\nvalue = [0, 4]'),\n",
       " Text(189.97953488372096, 115.515, 'X[0] <= 0.022\\ngini = 0.019\\nsamples = 107\\nvalue = [106, 1]'),\n",
       " Text(186.86511627906978, 101.925, 'X[0] <= 0.022\\ngini = 0.117\\nsamples = 16\\nvalue = [15, 1]'),\n",
       " Text(183.75069767441863, 88.33500000000001, 'gini = 0.0\\nsamples = 15\\nvalue = [15, 0]'),\n",
       " Text(189.97953488372096, 88.33500000000001, 'gini = 0.0\\nsamples = 1\\nvalue = [0, 1]'),\n",
       " Text(193.0939534883721, 101.925, 'gini = 0.0\\nsamples = 91\\nvalue = [91, 0]'),\n",
       " Text(183.75069767441863, 142.695, 'gini = 0.0\\nsamples = 3\\nvalue = [0, 3]'),\n",
       " Text(226.37930232558142, 169.875, 'X[10] <= 0.573\\ngini = 0.496\\nsamples = 172\\nvalue = [94, 78]'),\n",
       " Text(206.71953488372094, 156.285, 'X[13] <= 0.401\\ngini = 0.397\\nsamples = 99\\nvalue = [72, 27]'),\n",
       " Text(203.6051162790698, 142.695, 'gini = 0.0\\nsamples = 5\\nvalue = [0, 5]'),\n",
       " Text(209.83395348837212, 142.695, 'X[2] <= 0.055\\ngini = 0.359\\nsamples = 94\\nvalue = [72, 22]'),\n",
       " Text(206.71953488372094, 129.10500000000002, 'gini = 0.0\\nsamples = 3\\nvalue = [0, 3]'),\n",
       " Text(212.94837209302327, 129.10500000000002, 'X[10] <= 0.516\\ngini = 0.33\\nsamples = 91\\nvalue = [72, 19]'),\n",
       " Text(209.83395348837212, 115.515, 'gini = 0.0\\nsamples = 2\\nvalue = [0, 2]'),\n",
       " Text(216.06279069767444, 115.515, 'X[1] <= 0.099\\ngini = 0.309\\nsamples = 89\\nvalue = [72, 17]'),\n",
       " Text(206.33023255813956, 101.925, 'X[2] <= 0.097\\ngini = 0.367\\nsamples = 66\\nvalue = [50, 16]'),\n",
       " Text(196.20837209302329, 88.33500000000001, 'X[11] <= 0.497\\ngini = 0.252\\nsamples = 54\\nvalue = [46, 8]'),\n",
       " Text(185.3079069767442, 74.745, 'X[9] <= 0.072\\ngini = 0.469\\nsamples = 16\\nvalue = [10, 6]'),\n",
       " Text(179.07906976744187, 61.155, 'X[1] <= 0.087\\ngini = 0.408\\nsamples = 7\\nvalue = [2, 5]'),\n",
       " Text(175.96465116279072, 47.565, 'gini = 0.0\\nsamples = 5\\nvalue = [0, 5]'),\n",
       " Text(182.19348837209304, 47.565, 'gini = 0.0\\nsamples = 2\\nvalue = [2, 0]'),\n",
       " Text(191.53674418604652, 61.155, 'X[4] <= 0.105\\ngini = 0.198\\nsamples = 9\\nvalue = [8, 1]'),\n",
       " Text(188.42232558139537, 47.565, 'gini = 0.0\\nsamples = 8\\nvalue = [8, 0]'),\n",
       " Text(194.6511627906977, 47.565, 'gini = 0.0\\nsamples = 1\\nvalue = [0, 1]'),\n",
       " Text(207.10883720930235, 74.745, 'X[12] <= 0.524\\ngini = 0.1\\nsamples = 38\\nvalue = [36, 2]'),\n",
       " Text(203.99441860465117, 61.155, 'X[10] <= 0.522\\ngini = 0.408\\nsamples = 7\\nvalue = [5, 2]'),\n",
       " Text(200.88000000000002, 47.565, 'gini = 0.0\\nsamples = 5\\nvalue = [5, 0]'),\n",
       " Text(207.10883720930235, 47.565, 'gini = 0.0\\nsamples = 2\\nvalue = [0, 2]'),\n",
       " Text(210.2232558139535, 61.155, 'gini = 0.0\\nsamples = 31\\nvalue = [31, 0]'),\n",
       " Text(216.45209302325583, 88.33500000000001, 'X[0] <= 0.079\\ngini = 0.444\\nsamples = 12\\nvalue = [4, 8]'),\n",
       " Text(213.33767441860468, 74.745, 'gini = 0.0\\nsamples = 7\\nvalue = [0, 7]'),\n",
       " Text(219.566511627907, 74.745, 'X[7] <= 0.087\\ngini = 0.32\\nsamples = 5\\nvalue = [4, 1]'),\n",
       " Text(216.45209302325583, 61.155, 'gini = 0.0\\nsamples = 1\\nvalue = [0, 1]'),\n",
       " Text(222.68093023255815, 61.155, 'gini = 0.0\\nsamples = 4\\nvalue = [4, 0]'),\n",
       " Text(225.79534883720933, 101.925, 'X[2] <= 0.153\\ngini = 0.083\\nsamples = 23\\nvalue = [22, 1]'),\n",
       " Text(222.68093023255815, 88.33500000000001, 'gini = 0.0\\nsamples = 22\\nvalue = [22, 0]'),\n",
       " Text(228.90976744186048, 88.33500000000001, 'gini = 0.0\\nsamples = 1\\nvalue = [0, 1]'),\n",
       " Text(246.03906976744187, 156.285, 'X[4] <= 0.123\\ngini = 0.421\\nsamples = 73\\nvalue = [22, 51]'),\n",
       " Text(242.92465116279072, 142.695, 'X[9] <= 0.036\\ngini = 0.338\\nsamples = 65\\nvalue = [14, 51]'),\n",
       " Text(232.02418604651166, 129.10500000000002, 'X[5] <= 0.05\\ngini = 0.473\\nsamples = 13\\nvalue = [8, 5]'),\n",
       " Text(228.90976744186048, 115.515, 'gini = 0.0\\nsamples = 4\\nvalue = [0, 4]'),\n",
       " Text(235.1386046511628, 115.515, 'X[11] <= 0.568\\ngini = 0.198\\nsamples = 9\\nvalue = [8, 1]'),\n",
       " Text(232.02418604651166, 101.925, 'gini = 0.0\\nsamples = 8\\nvalue = [8, 0]'),\n",
       " Text(238.25302325581399, 101.925, 'gini = 0.0\\nsamples = 1\\nvalue = [0, 1]'),\n",
       " Text(253.8251162790698, 129.10500000000002, 'X[0] <= 0.089\\ngini = 0.204\\nsamples = 52\\nvalue = [6, 46]'),\n",
       " Text(250.7106976744186, 115.515, 'X[10] <= 0.596\\ngini = 0.147\\nsamples = 50\\nvalue = [4, 46]'),\n",
       " Text(244.4818604651163, 101.925, 'X[5] <= 0.098\\ngini = 0.375\\nsamples = 12\\nvalue = [3, 9]'),\n",
       " Text(241.36744186046514, 88.33500000000001, 'X[12] <= 0.593\\ngini = 0.18\\nsamples = 10\\nvalue = [1, 9]'),\n",
       " Text(238.25302325581399, 74.745, 'gini = 0.0\\nsamples = 9\\nvalue = [0, 9]'),\n",
       " Text(244.4818604651163, 74.745, 'gini = 0.0\\nsamples = 1\\nvalue = [1, 0]'),\n",
       " Text(247.59627906976746, 88.33500000000001, 'gini = 0.0\\nsamples = 2\\nvalue = [2, 0]'),\n",
       " Text(256.93953488372097, 101.925, 'X[9] <= 0.082\\ngini = 0.051\\nsamples = 38\\nvalue = [1, 37]'),\n",
       " Text(253.8251162790698, 88.33500000000001, 'gini = 0.0\\nsamples = 35\\nvalue = [0, 35]'),\n",
       " Text(260.0539534883721, 88.33500000000001, 'X[0] <= 0.069\\ngini = 0.444\\nsamples = 3\\nvalue = [1, 2]'),\n",
       " Text(256.93953488372097, 74.745, 'gini = 0.0\\nsamples = 1\\nvalue = [1, 0]'),\n",
       " Text(263.16837209302327, 74.745, 'gini = 0.0\\nsamples = 2\\nvalue = [0, 2]'),\n",
       " Text(256.93953488372097, 115.515, 'gini = 0.0\\nsamples = 2\\nvalue = [2, 0]'),\n",
       " Text(249.15348837209305, 142.695, 'gini = 0.0\\nsamples = 8\\nvalue = [8, 0]'),\n",
       " Text(297.42697674418605, 197.055, 'X[10] <= 0.56\\ngini = 0.308\\nsamples = 432\\nvalue = [82, 350]'),\n",
       " Text(281.8548837209303, 183.465, 'X[9] <= 0.128\\ngini = 0.413\\nsamples = 79\\nvalue = [56, 23]'),\n",
       " Text(278.7404651162791, 169.875, 'X[8] <= 0.156\\ngini = 0.495\\nsamples = 42\\nvalue = [19, 23]'),\n",
       " Text(275.6260465116279, 156.285, 'X[9] <= 0.096\\ngini = 0.489\\nsamples = 33\\nvalue = [19, 14]'),\n",
       " Text(269.3972093023256, 142.695, 'X[12] <= 0.495\\ngini = 0.375\\nsamples = 12\\nvalue = [3, 9]'),\n",
       " Text(266.28279069767444, 129.10500000000002, 'X[3] <= 0.102\\ngini = 0.48\\nsamples = 5\\nvalue = [3, 2]'),\n",
       " Text(263.16837209302327, 115.515, 'gini = 0.0\\nsamples = 2\\nvalue = [0, 2]'),\n",
       " Text(269.3972093023256, 115.515, 'gini = 0.0\\nsamples = 3\\nvalue = [3, 0]'),\n",
       " Text(272.51162790697674, 129.10500000000002, 'gini = 0.0\\nsamples = 7\\nvalue = [0, 7]'),\n",
       " Text(281.8548837209303, 142.695, 'X[5] <= 0.124\\ngini = 0.363\\nsamples = 21\\nvalue = [16, 5]'),\n",
       " Text(278.7404651162791, 129.10500000000002, 'gini = 0.0\\nsamples = 11\\nvalue = [11, 0]'),\n",
       " Text(284.9693023255814, 129.10500000000002, 'X[0] <= 0.082\\ngini = 0.5\\nsamples = 10\\nvalue = [5, 5]'),\n",
       " Text(281.8548837209303, 115.515, 'X[2] <= 0.076\\ngini = 0.278\\nsamples = 6\\nvalue = [1, 5]'),\n",
       " Text(278.7404651162791, 101.925, 'gini = 0.0\\nsamples = 1\\nvalue = [1, 0]'),\n",
       " Text(284.9693023255814, 101.925, 'gini = 0.0\\nsamples = 5\\nvalue = [0, 5]'),\n",
       " Text(288.0837209302326, 115.515, 'gini = 0.0\\nsamples = 4\\nvalue = [4, 0]'),\n",
       " Text(281.8548837209303, 156.285, 'gini = 0.0\\nsamples = 9\\nvalue = [0, 9]'),\n",
       " Text(284.9693023255814, 169.875, 'gini = 0.0\\nsamples = 37\\nvalue = [37, 0]'),\n",
       " Text(312.9990697674419, 183.465, 'X[3] <= 0.094\\ngini = 0.136\\nsamples = 353\\nvalue = [26, 327]'),\n",
       " Text(306.7702325581396, 169.875, 'X[9] <= 0.094\\ngini = 0.245\\nsamples = 14\\nvalue = [12, 2]'),\n",
       " Text(303.6558139534884, 156.285, 'gini = 0.0\\nsamples = 12\\nvalue = [12, 0]'),\n",
       " Text(309.8846511627907, 156.285, 'gini = 0.0\\nsamples = 2\\nvalue = [0, 2]'),\n",
       " Text(319.22790697674424, 169.875, 'X[2] <= 0.149\\ngini = 0.079\\nsamples = 339\\nvalue = [14, 325]'),\n",
       " Text(316.11348837209306, 156.285, 'X[2] <= 0.093\\ngini = 0.069\\nsamples = 337\\nvalue = [12, 325]'),\n",
       " Text(306.7702325581396, 142.695, 'X[11] <= 0.488\\ngini = 0.259\\nsamples = 72\\nvalue = [11, 61]'),\n",
       " Text(297.42697674418605, 129.10500000000002, 'X[2] <= 0.087\\ngini = 0.48\\nsamples = 15\\nvalue = [6, 9]'),\n",
       " Text(294.31255813953493, 115.515, 'X[7] <= 0.127\\ngini = 0.298\\nsamples = 11\\nvalue = [2, 9]'),\n",
       " Text(291.19813953488375, 101.925, 'gini = 0.0\\nsamples = 1\\nvalue = [1, 0]'),\n",
       " Text(297.42697674418605, 101.925, 'X[13] <= 0.43\\ngini = 0.18\\nsamples = 10\\nvalue = [1, 9]'),\n",
       " Text(294.31255813953493, 88.33500000000001, 'gini = 0.0\\nsamples = 8\\nvalue = [0, 8]'),\n",
       " Text(300.5413953488372, 88.33500000000001, 'X[5] <= 0.157\\ngini = 0.5\\nsamples = 2\\nvalue = [1, 1]'),\n",
       " Text(297.42697674418605, 74.745, 'gini = 0.0\\nsamples = 1\\nvalue = [0, 1]'),\n",
       " Text(303.6558139534884, 74.745, 'gini = 0.0\\nsamples = 1\\nvalue = [1, 0]'),\n",
       " Text(300.5413953488372, 115.515, 'gini = 0.0\\nsamples = 4\\nvalue = [4, 0]'),\n",
       " Text(316.11348837209306, 129.10500000000002, 'X[11] <= 0.732\\ngini = 0.16\\nsamples = 57\\nvalue = [5, 52]'),\n",
       " Text(312.9990697674419, 115.515, 'X[13] <= 0.275\\ngini = 0.133\\nsamples = 56\\nvalue = [4, 52]'),\n",
       " Text(309.8846511627907, 101.925, 'gini = 0.0\\nsamples = 33\\nvalue = [0, 33]'),\n",
       " Text(316.11348837209306, 101.925, 'X[6] <= 0.213\\ngini = 0.287\\nsamples = 23\\nvalue = [4, 19]'),\n",
       " Text(312.9990697674419, 88.33500000000001, 'X[5] <= 0.139\\ngini = 0.172\\nsamples = 21\\nvalue = [2, 19]'),\n",
       " Text(309.8846511627907, 74.745, 'gini = 0.0\\nsamples = 13\\nvalue = [0, 13]'),\n",
       " Text(316.11348837209306, 74.745, 'X[4] <= 0.133\\ngini = 0.375\\nsamples = 8\\nvalue = [2, 6]'),\n",
       " Text(312.9990697674419, 61.155, 'gini = 0.0\\nsamples = 2\\nvalue = [2, 0]'),\n",
       " Text(319.22790697674424, 61.155, 'gini = 0.0\\nsamples = 6\\nvalue = [0, 6]'),\n",
       " Text(319.22790697674424, 88.33500000000001, 'gini = 0.0\\nsamples = 2\\nvalue = [2, 0]'),\n",
       " Text(319.22790697674424, 115.515, 'gini = 0.0\\nsamples = 1\\nvalue = [1, 0]'),\n",
       " Text(325.45674418604654, 142.695, 'X[13] <= 0.368\\ngini = 0.008\\nsamples = 265\\nvalue = [1, 264]'),\n",
       " Text(322.34232558139536, 129.10500000000002, 'gini = 0.0\\nsamples = 241\\nvalue = [0, 241]'),\n",
       " Text(328.5711627906977, 129.10500000000002, 'X[13] <= 0.369\\ngini = 0.08\\nsamples = 24\\nvalue = [1, 23]'),\n",
       " Text(325.45674418604654, 115.515, 'gini = 0.0\\nsamples = 1\\nvalue = [1, 0]'),\n",
       " Text(331.6855813953489, 115.515, 'gini = 0.0\\nsamples = 23\\nvalue = [0, 23]'),\n",
       " Text(322.34232558139536, 156.285, 'gini = 0.0\\nsamples = 2\\nvalue = [2, 0]')]"
      ]
     },
     "execution_count": 21,
     "metadata": {},
     "output_type": "execute_result"
    },
    {
     "data": {
      "image/png": "[encoded data removed]",
      "text/plain": [
       "<Figure size 432x288 with 1 Axes>"
      ]
     },
     "metadata": {
      "needs_background": "light"
     },
     "output_type": "display_data"
    }
   ],
   "source": [
    "from sklearn.tree import DecisionTreeClassifier\n",
    "from sklearn import tree\n",
    "#import graphviz\n",
    "model = DecisionTreeClassifier ()\n",
    "model = model.fit (x_train, y_train)\n",
    "from sklearn.metrics import classification_report, confusion_matrix\n",
    "pred=model.predict (x_test)\n",
    "report = classification_report (y_test, pred)\n",
    "print (report)"
   ]
  },
  {
   "cell_type": "code",
   "execution_count": 35,
   "metadata": {},
   "outputs": [
    {
     "data": {
      "text/plain": [
       "array([[242,  10],\n",
       "       [ 18, 125]], dtype=int64)"
      ]
     },
     "execution_count": 35,
     "metadata": {},
     "output_type": "execute_result"
    }
   ],
   "source": [
    "# confusion_matrix (pred, y_test)"
   ]
  },
  {
   "cell_type": "markdown",
   "metadata": {},
   "source": [
    "Naive Bays model"
   ]
  },
  {
   "cell_type": "code",
   "execution_count": 4,
   "metadata": {},
   "outputs": [
    {
     "name": "stdout",
     "output_type": "stream",
     "text": [
      "              precision    recall  f1-score   support\n",
      "\n",
      "           0       0.92      0.84      0.88       335\n",
      "           1       0.64      0.78      0.70       118\n",
      "\n",
      "    accuracy                           0.83       453\n",
      "   macro avg       0.78      0.81      0.79       453\n",
      "weighted avg       0.84      0.83      0.83       453\n",
      "\n"
     ]
    },
    {
     "name": "stderr",
     "output_type": "stream",
     "text": [
      "C:\\Users\\ahmed\\anaconda3\\lib\\site-packages\\sklearn\\utils\\validation.py:72: DataConversionWarning: A column-vector y was passed when a 1d array was expected. Please change the shape of y to (n_samples, ), for example using ravel().\n",
      "  return f(**kwargs)\n"
     ]
    }
   ],
   "source": [
    "from sklearn.naive_bayes import GaussianNB\n",
    "model = GaussianNB ()\n",
    "model = model.fit (x_train, y_train)\n",
    "from sklearn.metrics import classification_report\n",
    "pred=model.predict (x_test)\n",
    "report = classification_report (y_test, pred)\n",
    "print (report)"
   ]
  },
  {
   "cell_type": "code",
   "execution_count": 37,
   "metadata": {},
   "outputs": [
    {
     "data": {
      "text/plain": [
       "array([[242,  27],\n",
       "       [ 18, 108]], dtype=int64)"
      ]
     },
     "execution_count": 37,
     "metadata": {},
     "output_type": "execute_result"
    }
   ],
   "source": [
    "# confusion_matrix (pred, y_test)"
   ]
  },
  {
   "cell_type": "markdown",
   "metadata": {},
   "source": [
    "Support Vector Machine (SVM) model"
   ]
  },
  {
   "cell_type": "code",
   "execution_count": 2,
   "metadata": {},
   "outputs": [
    {
     "name": "stdout",
     "output_type": "stream",
     "text": [
      "              precision    recall  f1-score   support\n",
      "\n",
      "           0       0.96      0.96      0.96       335\n",
      "           1       0.89      0.89      0.89       118\n",
      "\n",
      "    accuracy                           0.94       453\n",
      "   macro avg       0.93      0.93      0.93       453\n",
      "weighted avg       0.94      0.94      0.94       453\n",
      "\n"
     ]
    },
    {
     "name": "stderr",
     "output_type": "stream",
     "text": [
      "C:\\Users\\ahmed\\anaconda3\\lib\\site-packages\\sklearn\\utils\\validation.py:72: DataConversionWarning: A column-vector y was passed when a 1d array was expected. Please change the shape of y to (n_samples, ), for example using ravel().\n",
      "  return f(**kwargs)\n"
     ]
    }
   ],
   "source": [
    "from sklearn.svm import SVC\n",
    "model = SVC(C=1000)\n",
    "model =model.fit (x_train, y_train)\n",
    "from sklearn.metrics import classification_report\n",
    "pred=model.predict (x_test)\n",
    "report = classification_report (pred, y_test)\n",
    "print (report)\n"
   ]
  },
  {
   "cell_type": "code",
   "execution_count": 39,
   "metadata": {},
   "outputs": [
    {
     "data": {
      "text/plain": [
       "array([[259,  14],\n",
       "       [  1, 121]], dtype=int64)"
      ]
     },
     "execution_count": 39,
     "metadata": {},
     "output_type": "execute_result"
    }
   ],
   "source": [
    "# confusion_matrix (pred, y_test)"
   ]
  },
  {
   "cell_type": "markdown",
   "metadata": {},
   "source": [
    "Random Forest (RF) model"
   ]
  },
  {
   "cell_type": "code",
   "execution_count": 23,
   "metadata": {},
   "outputs": [
    {
     "name": "stderr",
     "output_type": "stream",
     "text": [
      "<ipython-input-23-b4c37d7f3ad0>:3: DataConversionWarning: A column-vector y was passed when a 1d array was expected. Please change the shape of y to (n_samples,), for example using ravel().\n",
      "  model = model.fit (x_train, y_train)\n"
     ]
    },
    {
     "name": "stdout",
     "output_type": "stream",
     "text": [
      "              precision    recall  f1-score   support\n",
      "\n",
      "           0       0.98      0.95      0.97       346\n",
      "           1       0.86      0.94      0.90       107\n",
      "\n",
      "    accuracy                           0.95       453\n",
      "   macro avg       0.92      0.95      0.93       453\n",
      "weighted avg       0.95      0.95      0.95       453\n",
      "\n"
     ]
    }
   ],
   "source": [
    "# from sklearn.ensemble import RandomForestClassifier\n",
    "# model = RandomForestClassifier (n_estimators=150)\n",
    "# model = model.fit (x_train, y_train)\n",
    "# from sklearn.metrics import classification_report\n",
    "# pred = model.predict (x_test)\n",
    "# report = classification_report (pred, y_test)\n",
    "# print (report)"
   ]
  },
  {
   "cell_type": "code",
   "execution_count": 45,
   "metadata": {},
   "outputs": [
    {
     "data": {
      "text/plain": [
       "array([[254,  15],\n",
       "       [  6, 120]], dtype=int64)"
      ]
     },
     "execution_count": 45,
     "metadata": {},
     "output_type": "execute_result"
    }
   ],
   "source": [
    "# confusion_matrix (pred, y_test)"
   ]
  },
  {
   "cell_type": "markdown",
   "metadata": {},
   "source": [
    "Apply for Imagery and Writing to the Disk "
   ]
  },
  {
   "cell_type": "code",
   "execution_count": 5,
   "metadata": {},
   "outputs": [],
   "source": [
    "data_1=rasterio.open ('1-6-2019.tif')\n",
    "data_2=data_1.read ()\n",
    "data_3=np.swapaxes (data_2, 0, 2)\n",
    "data_3=np.swapaxes (data_3, 0, 1)\n",
    "data_3 = data_3.reshape (data_3.shape [0]*data_3.shape [1], data_3.shape [2])\n",
    "prediction = model.predict (data_3)\n",
    "prediction=prediction.reshape (1,data_2.shape [1] , data_2.shape [2])\n",
    "prediction=prediction.astype (np.int32)\n",
    "with rasterio.open ('1-6-2019_NB_2.tif', 'w',\n",
    "                    driver=\"GTiff\", \n",
    "                   width=data_2.shape [2], \n",
    "                   height=data_2.shape [1],\n",
    "                   count=1, \n",
    "                   crs=data_1.crs, \n",
    "                   transform=data_1.transform, \n",
    "                   dtype=rasterio.int32) as dst:\n",
    "    dst.write (prediction)"
   ]
  },
  {
   "cell_type": "code",
   "execution_count": null,
   "metadata": {},
   "outputs": [],
   "source": []
  }
 ],
 "metadata": {
  "kernelspec": {
   "display_name": "Python 3",
   "language": "python",
   "name": "python3"
  },
  "language_info": {
   "codemirror_mode": {
    "name": "ipython",
    "version": 3
   },
   "file_extension": ".py",
   "mimetype": "text/x-python",
   "name": "python",
   "nbconvert_exporter": "python",
   "pygments_lexer": "ipython3",
   "version": "3.8.5"
  }
 },
 "nbformat": 4,
 "nbformat_minor": 4
}
