{
 "cells": [
  {
   "cell_type": "markdown",
   "metadata": {},
   "source": [
    "Importing Data"
   ]
  },
  {
   "cell_type": "code",
   "execution_count": 1,
   "metadata": {},
   "outputs": [],
   "source": [
    "import rasterio\n",
    "import numpy as np \n",
    "import pandas as pd \n",
    "from sklearn.model_selection import train_test_split\n",
    "data=pd.read_excel('new_without B1 and B9.xlsx')\n",
    "x=data.drop (columns=[\"Target\"])\n",
    "y=data [\"Target\"]\n",
    "x=x.to_numpy ()\n",
    "y=y.to_numpy ()\n",
    "y=y.reshape (y.shape [0], 1)\n",
    "x_train, x_test, y_train, y_test = train_test_split (x, y, test_size = 0.2, random_state =42)\n"
   ]
  },
  {
   "cell_type": "markdown",
   "metadata": {},
   "source": [
    "Artificial Neural Network model (ANN)"
   ]
  },
  {
   "cell_type": "code",
   "execution_count": 2,
   "metadata": {},
   "outputs": [
    {
     "name": "stdout",
     "output_type": "stream",
     "text": [
      "WARNING:tensorflow:Model was constructed with shape (None, 1811, 14) for input KerasTensor(type_spec=TensorSpec(shape=(None, 1811, 14), dtype=tf.float32, name='dense_input'), name='dense_input', description=\"created by layer 'dense_input'\"), but it was called on an input with incompatible shape (None, 14).\n",
      "WARNING:tensorflow:Model was constructed with shape (None, 1811, 14) for input KerasTensor(type_spec=TensorSpec(shape=(None, 1811, 14), dtype=tf.float32, name='dense_input'), name='dense_input', description=\"created by layer 'dense_input'\"), but it was called on an input with incompatible shape (None, 14).\n",
      "WARNING:tensorflow:Model was constructed with shape (None, 1811, 14) for input KerasTensor(type_spec=TensorSpec(shape=(None, 1811, 14), dtype=tf.float32, name='dense_input'), name='dense_input', description=\"created by layer 'dense_input'\"), but it was called on an input with incompatible shape (None, 14).\n"
     ]
    }
   ],
   "source": [
    "from tensorflow import keras\n",
    "from tensorflow.keras import backend as K\n",
    "def recall_m(y_true, y_pred):\n",
    "    true_positives = K.sum(K.round(K.clip(y_true * y_pred, 0, 1)))\n",
    "    possible_positives = K.sum(K.round(K.clip(y_true, 0, 1)))\n",
    "    recall = true_positives / (possible_positives + K.epsilon())\n",
    "    return recall\n",
    "\n",
    "def precision_m(y_true, y_pred):\n",
    "    true_positives = K.sum(K.round(K.clip(y_true * y_pred, 0, 1)))\n",
    "    predicted_positives = K.sum(K.round(K.clip(y_pred, 0, 1)))\n",
    "    precision = true_positives / (predicted_positives + K.epsilon())\n",
    "    return precision\n",
    "\n",
    "def f1_m(y_true, y_pred):\n",
    "    precision = precision_m(y_true, y_pred)\n",
    "    recall = recall_m(y_true, y_pred)\n",
    "    return 2*((precision*recall)/(precision+recall+K.epsilon()))\n",
    "from tensorflow.keras.models import Sequential\n",
    "from tensorflow.keras.layers import Dense, Dropout\n",
    "# from tensorflow.keras.utils import plot_model\n",
    "model = Sequential ()\n",
    "model.add (Dense (14, input_shape=x_train.shape, activation= \"relu\"))\n",
    "model.add (Dense (12, activation = 'relu'))\n",
    "model.add (Dropout (0.5))\n",
    "model.add (Dense (8, activation = 'relu'))\n",
    "model.add (Dense (1, activation = 'sigmoid'))\n",
    "# plot_model (model, show_shapes=True, show_layer_names= True)\n",
    "model.compile (loss=\"binary_crossentropy\", optimizer = \"adam\", metrics=['acc',f1_m,precision_m, recall_m])\n",
    "model.fit (x_train, y_train, epochs=400, batch_size=32, verbose=0)\n",
    "# recall, precision = model.evaluate(x_test, y_test, verbose=0)\n",
    "loss, accuracy, f1_score, precision, recall = model.evaluate(x_test, y_test, verbose=0)\n",
    "\n",
    "\n",
    "\n",
    "\n",
    "\n",
    "\n"
   ]
  },
  {
   "cell_type": "code",
   "execution_count": null,
   "metadata": {},
   "outputs": [],
   "source": [
    "Metrics "
   ]
  },
  {
   "cell_type": "code",
   "execution_count": 3,
   "metadata": {},
   "outputs": [
    {
     "name": "stdout",
     "output_type": "stream",
     "text": [
      "0.1771978735923767\n",
      "0.9271523356437683\n",
      "0.7992077469825745\n",
      "0.7719601988792419\n",
      "0.8379846215248108\n"
     ]
    }
   ],
   "source": [
    "print (loss)\n",
    "print (accuracy)\n",
    "print (f1_score)\n",
    "print (precision)\n",
    "print (recall)"
   ]
  },
  {
   "cell_type": "code",
   "execution_count": null,
   "metadata": {},
   "outputs": [],
   "source": [
    "Confusion matrix"
   ]
  },
  {
   "cell_type": "code",
   "execution_count": 91,
   "metadata": {},
   "outputs": [
    {
     "data": {
      "text/plain": [
       "array([[257,  16],\n",
       "       [  3, 119]], dtype=int64)"
      ]
     },
     "execution_count": 91,
     "metadata": {},
     "output_type": "execute_result"
    }
   ],
   "source": [
    "# pred=model.predict (x_test)\n",
    "# pred=K.round(K.clip(pred, 0, 1))\n",
    "# confusion_matrix (pred, y_test)"
   ]
  },
  {
   "cell_type": "code",
   "execution_count": null,
   "metadata": {},
   "outputs": [],
   "source": [
    "Apply for Imagery and Writing to Disk "
   ]
  },
  {
   "cell_type": "code",
   "execution_count": 4,
   "metadata": {},
   "outputs": [
    {
     "name": "stdout",
     "output_type": "stream",
     "text": [
      "WARNING:tensorflow:Model was constructed with shape (None, 1811, 14) for input KerasTensor(type_spec=TensorSpec(shape=(None, 1811, 14), dtype=tf.float32, name='dense_input'), name='dense_input', description=\"created by layer 'dense_input'\"), but it was called on an input with incompatible shape (None, 14).\n"
     ]
    }
   ],
   "source": [
    "import numpy\n",
    "data_1=rasterio.open ('1-6-2019.tif')\n",
    "data_2=data_1.read ()\n",
    "data_3=np.swapaxes (data_2, 0, 2)\n",
    "data_3=np.swapaxes (data_3, 0, 1)\n",
    "data_3 = data_3.reshape (data_3.shape [0]*data_3.shape [1], data_3.shape [2])\n",
    "prediction = model.predict (data_3)\n",
    "prediction=K.round(K.clip(prediction, 0, 1))\n",
    "prediction= prediction.numpy ()\n",
    "prediction=prediction.reshape (1, data_2.shape [1], data_2.shape [2])\n",
    "with rasterio.open (\"1-6-2019_ANN_2_new.tif\", \"w\", \n",
    "              driver=\"GTiff\",\n",
    "              width=data_2.shape[2],\n",
    "              height=data_2.shape [1],\n",
    "              count=1,\n",
    "              crs=data_1.crs,\n",
    "              transform=data_1.transform,\n",
    "              dtype=rasterio.float32) as dst:\n",
    "    dst.write (prediction)"
   ]
  }
 ],
 "metadata": {
  "kernelspec": {
   "display_name": "Python 3",
   "language": "python",
   "name": "python3"
  },
  "language_info": {
   "codemirror_mode": {
    "name": "ipython",
    "version": 3
   },
   "file_extension": ".py",
   "mimetype": "text/x-python",
   "name": "python",
   "nbconvert_exporter": "python",
   "pygments_lexer": "ipython3",
   "version": "3.8.5"
  }
 },
 "nbformat": 4,
 "nbformat_minor": 4
}
